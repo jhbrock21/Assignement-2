{
 "cells": [
  {
   "cell_type": "code",
   "execution_count": 23,
   "id": "6eff8594",
   "metadata": {},
   "outputs": [],
   "source": [
    "import pandas as pd\n",
    "from math import exp, log\n",
    "from statsmodels.formula.api import logit\n",
    "import matplotlib.pyplot as plt\n",
    "import sklearn.metrics as skm\n",
    "from statsmodels.formula.api import ols"
   ]
  },
  {
   "cell_type": "code",
   "execution_count": 24,
   "id": "e5f03074",
   "metadata": {},
   "outputs": [
    {
     "data": {
      "text/html": [
       "<div>\n",
       "<style scoped>\n",
       "    .dataframe tbody tr th:only-of-type {\n",
       "        vertical-align: middle;\n",
       "    }\n",
       "\n",
       "    .dataframe tbody tr th {\n",
       "        vertical-align: top;\n",
       "    }\n",
       "\n",
       "    .dataframe thead th {\n",
       "        text-align: right;\n",
       "    }\n",
       "</style>\n",
       "<table border=\"1\" class=\"dataframe\">\n",
       "  <thead>\n",
       "    <tr style=\"text-align: right;\">\n",
       "      <th></th>\n",
       "      <th>Unnamed: 0</th>\n",
       "      <th>voter_reg_num</th>\n",
       "      <th>status_lbl</th>\n",
       "      <th>city</th>\n",
       "      <th>race_lbl</th>\n",
       "      <th>party_lbl</th>\n",
       "      <th>gender_lbl</th>\n",
       "      <th>registration_dt</th>\n",
       "      <th>eoy_age</th>\n",
       "      <th>congressional_district_lbl</th>\n",
       "      <th>Vote1</th>\n",
       "      <th>Vote2</th>\n",
       "      <th>voted_both_elections</th>\n",
       "      <th>years_since_registration</th>\n",
       "      <th>age_group</th>\n",
       "    </tr>\n",
       "  </thead>\n",
       "  <tbody>\n",
       "    <tr>\n",
       "      <th>0</th>\n",
       "      <td>0</td>\n",
       "      <td>100630233</td>\n",
       "      <td>Inactive</td>\n",
       "      <td>Raleigh</td>\n",
       "      <td>Other</td>\n",
       "      <td>Unaffiliated</td>\n",
       "      <td>Unknown</td>\n",
       "      <td>2018-09-10</td>\n",
       "      <td>23</td>\n",
       "      <td>5</td>\n",
       "      <td>Did Not Vote</td>\n",
       "      <td>Did Not Vote</td>\n",
       "      <td>DNV in both</td>\n",
       "      <td>3.0</td>\n",
       "      <td>28 or younger</td>\n",
       "    </tr>\n",
       "    <tr>\n",
       "      <th>1</th>\n",
       "      <td>1</td>\n",
       "      <td>100339952</td>\n",
       "      <td>Inactive</td>\n",
       "      <td>Raleigh</td>\n",
       "      <td>White</td>\n",
       "      <td>Unaffiliated</td>\n",
       "      <td>Female</td>\n",
       "      <td>2013-07-08</td>\n",
       "      <td>29</td>\n",
       "      <td>5</td>\n",
       "      <td>Did Not Vote</td>\n",
       "      <td>Did Not Vote</td>\n",
       "      <td>DNV in both</td>\n",
       "      <td>8.0</td>\n",
       "      <td>Between 29 and 34</td>\n",
       "    </tr>\n",
       "    <tr>\n",
       "      <th>2</th>\n",
       "      <td>2</td>\n",
       "      <td>10165132</td>\n",
       "      <td>Active</td>\n",
       "      <td>Raleigh</td>\n",
       "      <td>White</td>\n",
       "      <td>Democrat</td>\n",
       "      <td>Female</td>\n",
       "      <td>1991-01-01</td>\n",
       "      <td>64</td>\n",
       "      <td>5</td>\n",
       "      <td>Voted</td>\n",
       "      <td>Voted</td>\n",
       "      <td>voted both elections</td>\n",
       "      <td>30.0</td>\n",
       "      <td>48 or older</td>\n",
       "    </tr>\n",
       "    <tr>\n",
       "      <th>3</th>\n",
       "      <td>3</td>\n",
       "      <td>27940</td>\n",
       "      <td>Active</td>\n",
       "      <td>Raleigh</td>\n",
       "      <td>White</td>\n",
       "      <td>Democrat</td>\n",
       "      <td>Male</td>\n",
       "      <td>1974-01-01</td>\n",
       "      <td>65</td>\n",
       "      <td>5</td>\n",
       "      <td>Voted</td>\n",
       "      <td>Voted</td>\n",
       "      <td>voted both elections</td>\n",
       "      <td>47.0</td>\n",
       "      <td>48 or older</td>\n",
       "    </tr>\n",
       "    <tr>\n",
       "      <th>4</th>\n",
       "      <td>5</td>\n",
       "      <td>100576872</td>\n",
       "      <td>Active</td>\n",
       "      <td>Raleigh</td>\n",
       "      <td>White</td>\n",
       "      <td>Unaffiliated</td>\n",
       "      <td>Male</td>\n",
       "      <td>2017-09-06</td>\n",
       "      <td>22</td>\n",
       "      <td>5</td>\n",
       "      <td>Did Not Vote</td>\n",
       "      <td>Did Not Vote</td>\n",
       "      <td>DNV in both</td>\n",
       "      <td>4.0</td>\n",
       "      <td>28 or younger</td>\n",
       "    </tr>\n",
       "  </tbody>\n",
       "</table>\n",
       "</div>"
      ],
      "text/plain": [
       "   Unnamed: 0  voter_reg_num status_lbl     city race_lbl     party_lbl  \\\n",
       "0           0      100630233   Inactive  Raleigh    Other  Unaffiliated   \n",
       "1           1      100339952   Inactive  Raleigh    White  Unaffiliated   \n",
       "2           2       10165132     Active  Raleigh    White      Democrat   \n",
       "3           3          27940     Active  Raleigh    White      Democrat   \n",
       "4           5      100576872     Active  Raleigh    White  Unaffiliated   \n",
       "\n",
       "  gender_lbl registration_dt  eoy_age  congressional_district_lbl  \\\n",
       "0    Unknown      2018-09-10       23                           5   \n",
       "1     Female      2013-07-08       29                           5   \n",
       "2     Female      1991-01-01       64                           5   \n",
       "3       Male      1974-01-01       65                           5   \n",
       "4       Male      2017-09-06       22                           5   \n",
       "\n",
       "          Vote1         Vote2  voted_both_elections  years_since_registration  \\\n",
       "0  Did Not Vote  Did Not Vote           DNV in both                       3.0   \n",
       "1  Did Not Vote  Did Not Vote           DNV in both                       8.0   \n",
       "2         Voted         Voted  voted both elections                      30.0   \n",
       "3         Voted         Voted  voted both elections                      47.0   \n",
       "4  Did Not Vote  Did Not Vote           DNV in both                       4.0   \n",
       "\n",
       "           age_group  \n",
       "0      28 or younger  \n",
       "1  Between 29 and 34  \n",
       "2        48 or older  \n",
       "3        48 or older  \n",
       "4      28 or younger  "
      ]
     },
     "execution_count": 24,
     "metadata": {},
     "output_type": "execute_result"
    }
   ],
   "source": [
    "voters = pd.read_csv(\"C:/Users/jacob/Documents/Classes/Predictive Modeling/Week 5/Assignment2/BAS 230 - Assignment 2 input.csv\")\n",
    "voters.head()"
   ]
  },
  {
   "cell_type": "code",
   "execution_count": 25,
   "id": "9fcb6c7f",
   "metadata": {},
   "outputs": [],
   "source": [
    "voters['race_lbl'] = voters.race_lbl.replace(['P'],'Other')"
   ]
  },
  {
   "cell_type": "markdown",
   "id": "e3ce538c",
   "metadata": {},
   "source": [
    "Creating the functions and applying those functions to current variables to turn them into new variables that are binary, these will be used as the target variables"
   ]
  },
  {
   "cell_type": "code",
   "execution_count": 26,
   "id": "ad5cb00f",
   "metadata": {},
   "outputs": [
    {
     "data": {
      "text/plain": [
       "short               87927\n",
       "moderately short    86996\n",
       "long                78092\n",
       "moderately long     62591\n",
       "Name: registered_length, dtype: int64"
      ]
     },
     "execution_count": 26,
     "metadata": {},
     "output_type": "execute_result"
    }
   ],
   "source": [
    "value_labels = ['short','moderately short','moderately long','long']\n",
    "voters['registered_length'] = pd.qcut(voters.years_since_registration,\n",
    "                                     q=4, labels=value_labels)\n",
    "voters.registered_length.value_counts()"
   ]
  },
  {
   "cell_type": "code",
   "execution_count": 27,
   "id": "c74e3a85",
   "metadata": {},
   "outputs": [
    {
     "name": "stdout",
     "output_type": "stream",
     "text": [
      "Vote1       Did Not Vote     Voted\n",
      "status_lbl                        \n",
      "Active          0.262893  0.737107\n",
      "Inactive        0.817372  0.182628\n",
      "Vote1        Did Not Vote     Voted\n",
      "city                               \n",
      "Apex             0.305041  0.694959\n",
      "Cary             0.302964  0.697036\n",
      "Other            0.355449  0.644551\n",
      "Raleigh          0.337907  0.662093\n",
      "Wake forest      0.311424  0.688576\n",
      "Vote1     Did Not Vote     Voted\n",
      "race_lbl                        \n",
      "Black         0.381126  0.618874\n",
      "Other         0.459068  0.540932\n",
      "White         0.290452  0.709548\n",
      "Vote1         Did Not Vote     Voted\n",
      "party_lbl                           \n",
      "Democrat          0.291611  0.708389\n",
      "Republican        0.314135  0.685865\n",
      "Unaffiliated      0.383240  0.616760\n",
      "Vote1       Did Not Vote     Voted\n",
      "gender_lbl                        \n",
      "Female          0.315358  0.684642\n",
      "Male            0.336735  0.663265\n",
      "Unknown         0.510468  0.489532\n",
      "Vote1                       Did Not Vote     Voted\n",
      "congressional_district_lbl                        \n",
      "5                               0.338331  0.661669\n",
      "6                               0.309636  0.690364\n",
      "7                               0.344335  0.655665\n",
      "Vote1              Did Not Vote     Voted\n",
      "age_group                                \n",
      "28 or younger          0.623964  0.376036\n",
      "48 or older            0.221257  0.778743\n",
      "Between 29 and 34      0.490764  0.509236\n",
      "Between 35 and 47      0.345799  0.654201\n",
      "Vote1              Did Not Vote     Voted\n",
      "registered_length                        \n",
      "short                  0.353236  0.646764\n",
      "moderately short       0.410571  0.589429\n",
      "moderately long        0.334585  0.665415\n",
      "long                   0.259207  0.740793\n"
     ]
    }
   ],
   "source": [
    "cat_vars = ['status_lbl','city','race_lbl','party_lbl','gender_lbl','congressional_district_lbl','age_group','registered_length']\n",
    "for i in cat_vars:\n",
    "    print(pd.crosstab(voters[i],\n",
    "                     voters.Vote1,\n",
    "                     normalize = 'index'))"
   ]
  },
  {
   "cell_type": "code",
   "execution_count": 28,
   "id": "d550de52",
   "metadata": {},
   "outputs": [],
   "source": [
    "func1 = lambda x: 1 if x == 'Voted' else 0"
   ]
  },
  {
   "cell_type": "code",
   "execution_count": 29,
   "id": "9cb46101",
   "metadata": {},
   "outputs": [
    {
     "data": {
      "text/html": [
       "<div>\n",
       "<style scoped>\n",
       "    .dataframe tbody tr th:only-of-type {\n",
       "        vertical-align: middle;\n",
       "    }\n",
       "\n",
       "    .dataframe tbody tr th {\n",
       "        vertical-align: top;\n",
       "    }\n",
       "\n",
       "    .dataframe thead th {\n",
       "        text-align: right;\n",
       "    }\n",
       "</style>\n",
       "<table border=\"1\" class=\"dataframe\">\n",
       "  <thead>\n",
       "    <tr style=\"text-align: right;\">\n",
       "      <th></th>\n",
       "      <th>Unnamed: 0</th>\n",
       "      <th>voter_reg_num</th>\n",
       "      <th>status_lbl</th>\n",
       "      <th>city</th>\n",
       "      <th>race_lbl</th>\n",
       "      <th>party_lbl</th>\n",
       "      <th>gender_lbl</th>\n",
       "      <th>registration_dt</th>\n",
       "      <th>eoy_age</th>\n",
       "      <th>congressional_district_lbl</th>\n",
       "      <th>Vote1</th>\n",
       "      <th>Vote2</th>\n",
       "      <th>voted_both_elections</th>\n",
       "      <th>years_since_registration</th>\n",
       "      <th>age_group</th>\n",
       "      <th>registered_length</th>\n",
       "      <th>voted_2018</th>\n",
       "    </tr>\n",
       "  </thead>\n",
       "  <tbody>\n",
       "    <tr>\n",
       "      <th>0</th>\n",
       "      <td>0</td>\n",
       "      <td>100630233</td>\n",
       "      <td>Inactive</td>\n",
       "      <td>Raleigh</td>\n",
       "      <td>Other</td>\n",
       "      <td>Unaffiliated</td>\n",
       "      <td>Unknown</td>\n",
       "      <td>2018-09-10</td>\n",
       "      <td>23</td>\n",
       "      <td>5</td>\n",
       "      <td>Did Not Vote</td>\n",
       "      <td>Did Not Vote</td>\n",
       "      <td>DNV in both</td>\n",
       "      <td>3.0</td>\n",
       "      <td>28 or younger</td>\n",
       "      <td>short</td>\n",
       "      <td>0</td>\n",
       "    </tr>\n",
       "    <tr>\n",
       "      <th>1</th>\n",
       "      <td>1</td>\n",
       "      <td>100339952</td>\n",
       "      <td>Inactive</td>\n",
       "      <td>Raleigh</td>\n",
       "      <td>White</td>\n",
       "      <td>Unaffiliated</td>\n",
       "      <td>Female</td>\n",
       "      <td>2013-07-08</td>\n",
       "      <td>29</td>\n",
       "      <td>5</td>\n",
       "      <td>Did Not Vote</td>\n",
       "      <td>Did Not Vote</td>\n",
       "      <td>DNV in both</td>\n",
       "      <td>8.0</td>\n",
       "      <td>Between 29 and 34</td>\n",
       "      <td>moderately short</td>\n",
       "      <td>0</td>\n",
       "    </tr>\n",
       "    <tr>\n",
       "      <th>2</th>\n",
       "      <td>2</td>\n",
       "      <td>10165132</td>\n",
       "      <td>Active</td>\n",
       "      <td>Raleigh</td>\n",
       "      <td>White</td>\n",
       "      <td>Democrat</td>\n",
       "      <td>Female</td>\n",
       "      <td>1991-01-01</td>\n",
       "      <td>64</td>\n",
       "      <td>5</td>\n",
       "      <td>Voted</td>\n",
       "      <td>Voted</td>\n",
       "      <td>voted both elections</td>\n",
       "      <td>30.0</td>\n",
       "      <td>48 or older</td>\n",
       "      <td>long</td>\n",
       "      <td>1</td>\n",
       "    </tr>\n",
       "    <tr>\n",
       "      <th>3</th>\n",
       "      <td>3</td>\n",
       "      <td>27940</td>\n",
       "      <td>Active</td>\n",
       "      <td>Raleigh</td>\n",
       "      <td>White</td>\n",
       "      <td>Democrat</td>\n",
       "      <td>Male</td>\n",
       "      <td>1974-01-01</td>\n",
       "      <td>65</td>\n",
       "      <td>5</td>\n",
       "      <td>Voted</td>\n",
       "      <td>Voted</td>\n",
       "      <td>voted both elections</td>\n",
       "      <td>47.0</td>\n",
       "      <td>48 or older</td>\n",
       "      <td>long</td>\n",
       "      <td>1</td>\n",
       "    </tr>\n",
       "    <tr>\n",
       "      <th>4</th>\n",
       "      <td>5</td>\n",
       "      <td>100576872</td>\n",
       "      <td>Active</td>\n",
       "      <td>Raleigh</td>\n",
       "      <td>White</td>\n",
       "      <td>Unaffiliated</td>\n",
       "      <td>Male</td>\n",
       "      <td>2017-09-06</td>\n",
       "      <td>22</td>\n",
       "      <td>5</td>\n",
       "      <td>Did Not Vote</td>\n",
       "      <td>Did Not Vote</td>\n",
       "      <td>DNV in both</td>\n",
       "      <td>4.0</td>\n",
       "      <td>28 or younger</td>\n",
       "      <td>short</td>\n",
       "      <td>0</td>\n",
       "    </tr>\n",
       "  </tbody>\n",
       "</table>\n",
       "</div>"
      ],
      "text/plain": [
       "   Unnamed: 0  voter_reg_num status_lbl     city race_lbl     party_lbl  \\\n",
       "0           0      100630233   Inactive  Raleigh    Other  Unaffiliated   \n",
       "1           1      100339952   Inactive  Raleigh    White  Unaffiliated   \n",
       "2           2       10165132     Active  Raleigh    White      Democrat   \n",
       "3           3          27940     Active  Raleigh    White      Democrat   \n",
       "4           5      100576872     Active  Raleigh    White  Unaffiliated   \n",
       "\n",
       "  gender_lbl registration_dt  eoy_age  congressional_district_lbl  \\\n",
       "0    Unknown      2018-09-10       23                           5   \n",
       "1     Female      2013-07-08       29                           5   \n",
       "2     Female      1991-01-01       64                           5   \n",
       "3       Male      1974-01-01       65                           5   \n",
       "4       Male      2017-09-06       22                           5   \n",
       "\n",
       "          Vote1         Vote2  voted_both_elections  years_since_registration  \\\n",
       "0  Did Not Vote  Did Not Vote           DNV in both                       3.0   \n",
       "1  Did Not Vote  Did Not Vote           DNV in both                       8.0   \n",
       "2         Voted         Voted  voted both elections                      30.0   \n",
       "3         Voted         Voted  voted both elections                      47.0   \n",
       "4  Did Not Vote  Did Not Vote           DNV in both                       4.0   \n",
       "\n",
       "           age_group registered_length  voted_2018  \n",
       "0      28 or younger             short           0  \n",
       "1  Between 29 and 34  moderately short           0  \n",
       "2        48 or older              long           1  \n",
       "3        48 or older              long           1  \n",
       "4      28 or younger             short           0  "
      ]
     },
     "execution_count": 29,
     "metadata": {},
     "output_type": "execute_result"
    }
   ],
   "source": [
    "voters['voted_2018'] = voters.Vote1.apply(func1)\n",
    "voters.head()"
   ]
  },
  {
   "cell_type": "code",
   "execution_count": 45,
   "id": "50fd0f85",
   "metadata": {},
   "outputs": [
    {
     "name": "stdout",
     "output_type": "stream",
     "text": [
      "Optimization terminated successfully.\n",
      "         Current function value: 0.562656\n",
      "         Iterations 5\n"
     ]
    },
    {
     "data": {
      "text/plain": [
       "Intercept                    1.079651\n",
       "C(status_lbl)[T.Inactive]   -2.536839\n",
       "C(city)[T.Cary]              0.073591\n",
       "C(city)[T.Other]            -0.206736\n",
       "C(city)[T.Raleigh]          -0.022039\n",
       "C(city)[T.Wake forest]      -0.021141\n",
       "dtype: float64"
      ]
     },
     "execution_count": 45,
     "metadata": {},
     "output_type": "execute_result"
    }
   ],
   "source": [
    "model1_2018 = logit(formula='voted_2018 ~ C(status_lbl) + C(city)',\n",
    "                   data=voters).fit()\n",
    "model1_2018.params"
   ]
  },
  {
   "cell_type": "code",
   "execution_count": 46,
   "id": "45f8bd90",
   "metadata": {},
   "outputs": [],
   "source": [
    "voters['prob_2018_1'] = model1_2018.predict(voters)"
   ]
  },
  {
   "cell_type": "code",
   "execution_count": 48,
   "id": "36a2ebdb",
   "metadata": {},
   "outputs": [],
   "source": [
    "fpr, tpr, thresholds = skm.roc_curve(voters['voted_2018'],\n",
    "                                    voters['prob_2018_1'])"
   ]
  },
  {
   "cell_type": "code",
   "execution_count": 49,
   "id": "69697eca",
   "metadata": {},
   "outputs": [],
   "source": [
    "auc_score = skm.auc(fpr,tpr)"
   ]
  },
  {
   "cell_type": "code",
   "execution_count": 50,
   "id": "29360ddc",
   "metadata": {},
   "outputs": [],
   "source": [
    "def plot_roc(fpr,tpr):\n",
    "    # AUC score\n",
    "    auc_score = skm.auc(fpr,tpr)\n",
    "    # ROC curve\n",
    "    skm.RocCurveDisplay(fpr=fpr, tpr=tpr,\n",
    "                       roc_auc=auc_score,estimator_name='results').plot()\n",
    "    # Add the diagonal line\n",
    "    plt.plot([0, 1], [0, 1], \n",
    "             color='orange', \n",
    "             linestyle='--')"
   ]
  },
  {
   "cell_type": "code",
   "execution_count": 51,
   "id": "bb6f521e",
   "metadata": {},
   "outputs": [
    {
     "data": {
      "image/png": "[encoded data removed]",
      "text/plain": [
       "<Figure size 640x480 with 1 Axes>"
      ]
     },
     "metadata": {},
     "output_type": "display_data"
    }
   ],
   "source": [
    "plot_roc(fpr,tpr)"
   ]
  },
  {
   "cell_type": "code",
   "execution_count": 52,
   "id": "8c9e5cf6",
   "metadata": {},
   "outputs": [
    {
     "name": "stdout",
     "output_type": "stream",
     "text": [
      "Optimization terminated successfully.\n",
      "         Current function value: 0.557046\n",
      "         Iterations 5\n"
     ]
    },
    {
     "data": {
      "text/plain": [
       "Intercept                    0.931174\n",
       "C(status_lbl)[T.Inactive]   -2.507916\n",
       "C(city)[T.Cary]              0.126616\n",
       "C(city)[T.Other]            -0.180015\n",
       "C(city)[T.Raleigh]           0.016673\n",
       "C(city)[T.Wake forest]      -0.032270\n",
       "C(race_lbl)[T.Other]        -0.400928\n",
       "C(race_lbl)[T.White]         0.271106\n",
       "dtype: float64"
      ]
     },
     "execution_count": 52,
     "metadata": {},
     "output_type": "execute_result"
    }
   ],
   "source": [
    "model2_2018 = logit(formula='voted_2018 ~ C(status_lbl) + C(city) + C(race_lbl)',\n",
    "                   data=voters).fit()\n",
    "model2_2018.params"
   ]
  },
  {
   "cell_type": "code",
   "execution_count": 53,
   "id": "e4f2dd41",
   "metadata": {},
   "outputs": [],
   "source": [
    "voters['prob_2018_2'] = model2_2018.predict(voters)"
   ]
  },
  {
   "cell_type": "code",
   "execution_count": 54,
   "id": "c0af7b02",
   "metadata": {},
   "outputs": [],
   "source": [
    "fpr, tpr, thresholds = skm.roc_curve(voters['voted_2018'],\n",
    "                                    voters['prob_2018_2'])"
   ]
  },
  {
   "cell_type": "code",
   "execution_count": 55,
   "id": "6af9f763",
   "metadata": {},
   "outputs": [],
   "source": [
    "auc_score = skm.auc(fpr,tpr)"
   ]
  },
  {
   "cell_type": "code",
   "execution_count": 56,
   "id": "b1ac06bd",
   "metadata": {},
   "outputs": [
    {
     "data": {
      "image/png": "[encoded data removed]",
      "text/plain": [
       "<Figure size 640x480 with 1 Axes>"
      ]
     },
     "metadata": {},
     "output_type": "display_data"
    }
   ],
   "source": [
    "plot_roc(fpr,tpr)"
   ]
  },
  {
   "cell_type": "code",
   "execution_count": 59,
   "id": "9a108c1f",
   "metadata": {},
   "outputs": [
    {
     "name": "stdout",
     "output_type": "stream",
     "text": [
      "Optimization terminated successfully.\n",
      "         Current function value: 0.552426\n",
      "         Iterations 5\n"
     ]
    },
    {
     "data": {
      "text/plain": [
       "Intercept                       1.081798\n",
       "C(status_lbl)[T.Inactive]      -2.501734\n",
       "C(city)[T.Cary]                 0.122114\n",
       "C(city)[T.Other]               -0.188675\n",
       "C(city)[T.Raleigh]             -0.012620\n",
       "C(city)[T.Wake forest]         -0.029448\n",
       "C(race_lbl)[T.Other]           -0.189580\n",
       "C(race_lbl)[T.White]            0.507723\n",
       "C(party_lbl)[T.Republican]     -0.428070\n",
       "C(party_lbl)[T.Unaffiliated]   -0.543258\n",
       "dtype: float64"
      ]
     },
     "execution_count": 59,
     "metadata": {},
     "output_type": "execute_result"
    }
   ],
   "source": []
  },
  {
   "cell_type": "code",
   "execution_count": null,
   "id": "d5ad6e4e",
   "metadata": {},
   "outputs": [],
   "source": []
  }
 ],
 "metadata": {
  "kernelspec": {
   "display_name": "Python 3 (ipykernel)",
   "language": "python",
   "name": "python3"
  },
  "language_info": {
   "codemirror_mode": {
    "name": "ipython",
    "version": 3
   },
   "file_extension": ".py",
   "mimetype": "text/x-python",
   "name": "python",
   "nbconvert_exporter": "python",
   "pygments_lexer": "ipython3",
   "version": "3.9.13"
  }
 },
 "nbformat": 4,
 "nbformat_minor": 5
}
